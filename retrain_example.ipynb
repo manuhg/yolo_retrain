{
  "nbformat": 4,
  "nbformat_minor": 0,
  "metadata": {
    "colab": {
      "name": "retrain_example",
      "version": "0.3.2",
      "provenance": [],
      "collapsed_sections": []
    },
    "kernelspec": {
      "name": "python3",
      "display_name": "Python 3"
    }
  },
  "cells": [
    {
      "cell_type": "code",
      "metadata": {
        "id": "Fi7cGtTou3N5",
        "colab_type": "code",
        "outputId": "98cda4aa-1277-4d77-ecf7-d07fc72702d4",
        "colab": {
          "base_uri": "https://localhost:8080/"
        }
      },
      "source": [
        "!rm -rf *\n",
        "!rm -rf .git* .config\n",
        "!ls -la"
      ],
      "execution_count": 0,
      "outputs": [
        {
          "output_type": "stream",
          "text": [
            "total 12\n",
            "drwxr-xr-x 1 root root 4096 May 20 11:33 .\n",
            "drwxr-xr-x 1 root root 4096 May 20 10:12 ..\n"
          ],
          "name": "stdout"
        }
      ]
    },
    {
      "cell_type": "code",
      "metadata": {
        "id": "KDenB9lxu55a",
        "colab_type": "code",
        "colab": {}
      },
      "source": [
        "!git clone https://github.com/manuhg/yolo_retrain.git ."
      ],
      "execution_count": 0,
      "outputs": []
    },
    {
      "cell_type": "code",
      "metadata": {
        "id": "Z-2zIM9h9x83",
        "colab_type": "code",
        "colab": {}
      },
      "source": [
        "!mkdir data_dir\n",
        "!printf \"car\\ncart\">data_dir/classes.txt"
      ],
      "execution_count": 0,
      "outputs": []
    },
    {
      "cell_type": "code",
      "metadata": {
        "id": "WDkMxgUz6WLM",
        "colab_type": "code",
        "colab": {}
      },
      "source": [
        "!python train.py -d data_dir"
      ],
      "execution_count": 0,
      "outputs": []
    },
    {
      "cell_type": "code",
      "metadata": {
        "id": "TFDwYnj0-Dm3",
        "colab_type": "code",
        "colab": {}
      },
      "source": [
        ""
      ],
      "execution_count": 0,
      "outputs": []
    }
  ]
}