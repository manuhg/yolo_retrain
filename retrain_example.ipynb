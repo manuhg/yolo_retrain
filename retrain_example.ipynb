{
  "nbformat": 4,
  "nbformat_minor": 0,
  "metadata": {
    "colab": {
      "name": "retrain_example.ipynb",
      "version": "0.3.2",
      "provenance": [],
      "collapsed_sections": [
        "gX2aZZ-JqmOC",
        "ZX6T3J09qySr",
        "v2ptsrAKpoYU",
        "27d4pFn6p2fc",
        "iU5m1E8Vp8l4",
        "hpGScBFJqBxj"
      ],
      "toc_visible": true
    },
    "kernelspec": {
      "name": "python3",
      "display_name": "Python 3"
    },
    "accelerator": "GPU"
  },
  "cells": [
    {
      "cell_type": "markdown",
      "metadata": {
        "id": "m5QcE8ymwPxY",
        "colab_type": "text"
      },
      "source": [
        "#Clone Repository"
      ]
    },
    {
      "cell_type": "code",
      "metadata": {
        "id": "Fi7cGtTou3N5",
        "colab_type": "code",
        "colab": {}
      },
      "source": [
        "!rm -rf *\n",
        "!rm -rf .git* .config\n",
        "!ls -la"
      ],
      "execution_count": 0,
      "outputs": []
    },
    {
      "cell_type": "code",
      "metadata": {
        "id": "KDenB9lxu55a",
        "colab_type": "code",
        "colab": {}
      },
      "source": [
        "!git clone https://github.com/manuhg/yolo_retrain.git ."
      ],
      "execution_count": 0,
      "outputs": []
    },
    {
      "cell_type": "markdown",
      "metadata": {
        "id": "9QG3fQn2qUcj",
        "colab_type": "text"
      },
      "source": [
        "# Do it at once"
      ]
    },
    {
      "cell_type": "code",
      "metadata": {
        "id": "8AowoQEVjxBA",
        "colab_type": "code",
        "colab": {}
      },
      "source": [
        "!python train.py -d . -ts NFPA -m yolov2-tiny"
      ],
      "execution_count": 0,
      "outputs": []
    },
    {
      "cell_type": "markdown",
      "metadata": {
        "id": "0wDkiA_-v3ZO",
        "colab_type": "text"
      },
      "source": [
        " # Do it step by step"
      ]
    },
    {
      "cell_type": "markdown",
      "metadata": {
        "id": "gX2aZZ-JqmOC",
        "colab_type": "text"
      },
      "source": [
        "## Get  Pascal VOC dataset"
      ]
    },
    {
      "cell_type": "code",
      "metadata": {
        "id": "FR4t1yr3ZJxV",
        "colab_type": "code",
        "colab": {}
      },
      "source": [
        "!wget https://pjreddie.com/media/files/VOCtrainval_11-May-2012.tar\n",
        "!wget https://pjreddie.com/media/files/VOCtrainval_06-Nov-2007.tar\n",
        "!wget https://pjreddie.com/media/files/VOCtest_06-Nov-2007.tar\n",
        "!tar xf VOCtrainval_11-May-2012.tar\n",
        "!tar xf VOCtrainval_06-Nov-2007.tar\n",
        "!tar xf VOCtest_06-Nov-2007.tar\n",
        "\n",
        "!wget https://pjreddie.com/media/files/voc_label.py\n",
        "!python voc_label.py\n",
        "\n",
        "!cat 2007_train.txt 2012_*.txt > train.txt\n",
        "\n",
        "!cp 2007_val.txt test.txt\n",
        "\n",
        "!cp data/voc.names classes.txt\n",
        "\n",
        "!mkdir bkup\n",
        "!mv 2* bkup/\n",
        "!mv *.tar bkup/"
      ],
      "execution_count": 0,
      "outputs": []
    },
    {
      "cell_type": "markdown",
      "metadata": {
        "id": "ZX6T3J09qySr",
        "colab_type": "text"
      },
      "source": [
        "## Get NFPA dataset"
      ]
    },
    {
      "cell_type": "code",
      "metadata": {
        "id": "g0pv9aeko1dz",
        "colab_type": "code",
        "colab": {}
      },
      "source": [
        "!pip install gdown"
      ],
      "execution_count": 0,
      "outputs": []
    },
    {
      "cell_type": "code",
      "metadata": {
        "id": "E6FUgXlMq0wb",
        "colab_type": "code",
        "colab": {}
      },
      "source": [
        "!gdown https://drive.google.com/uc?id=1_gJcci9p6cS0EucumFt2gpwA0tqgP7_f&export=download"
      ],
      "execution_count": 0,
      "outputs": []
    },
    {
      "cell_type": "code",
      "metadata": {
        "id": "NCk9G-VCrXXr",
        "colab_type": "code",
        "colab": {}
      },
      "source": [
        "!unzip NFPA_dataset.zip"
      ],
      "execution_count": 0,
      "outputs": []
    },
    {
      "cell_type": "code",
      "metadata": {
        "id": "TyWZ54QPraF7",
        "colab_type": "code",
        "colab": {}
      },
      "source": [
        "!mkdir nfpa"
      ],
      "execution_count": 0,
      "outputs": []
    },
    {
      "cell_type": "code",
      "metadata": {
        "id": "pnwH3qKrrj8I",
        "colab_type": "code",
        "colab": {}
      },
      "source": [
        "!mv 'NFPA dataset' nfpa/data"
      ],
      "execution_count": 0,
      "outputs": []
    },
    {
      "cell_type": "code",
      "metadata": {
        "id": "bsjUed7Vr4kP",
        "colab_type": "code",
        "colab": {}
      },
      "source": [
        "!cp nfpa/data/train.txt ./\n",
        "!cp nfpa/data/test.txt ./\n",
        "!printf \"NFPA\" > classes.txt"
      ],
      "execution_count": 0,
      "outputs": []
    },
    {
      "cell_type": "markdown",
      "metadata": {
        "id": "v2ptsrAKpoYU",
        "colab_type": "text"
      },
      "source": [
        "## Train"
      ]
    },
    {
      "cell_type": "markdown",
      "metadata": {
        "id": "g5XlGJtPqNWS",
        "colab_type": "text"
      },
      "source": [
        "### Prepare config"
      ]
    },
    {
      "cell_type": "code",
      "metadata": {
        "id": "JZMEKWjOdhQW",
        "colab_type": "code",
        "colab": {}
      },
      "source": [
        "data_dir = '.'\n",
        "class_names_file = 'classes.txt'\n",
        "batch_size, subdivisions = int('64'), int('8')\n",
        "model_name='yolov2'\n",
        "model_url='https://pjreddie.com/media/files/darknet19_448.conv.23'\n",
        "filename='yolo_custom.cfg'\n",
        "\n",
        "import os\n",
        "import sys\n",
        "import subprocess\n",
        "from gen_files import gen\n",
        "import argparse\n",
        "\n",
        "def exec_cmd(cmdstr):\n",
        "    print(cmdstr,os.popen(cmdstr).read())"
      ],
      "execution_count": 0,
      "outputs": []
    },
    {
      "cell_type": "code",
      "metadata": {
        "id": "IWS-8G6QlG4j",
        "colab_type": "code",
        "colab": {}
      },
      "source": [
        "if not os.path.isfile('./darknet'):\n",
        "    print('Cloning darknet repository')\n",
        "    exec_cmd('git clone https://github.com/pjreddie/darknet.git dkn')\n",
        "    exec_cmd('mv -v dkn/* ./')\n",
        "    exec_cmd(\"sed -i 's/GPU=0/GPU=1/;s/CUDNN=0/CUDNN=1/;s/OPENCV=0/OPENCV=1/;s/OPENMP=0/OPENMP=1/;' Makefile\")\n",
        "    exec_cmd('make -j8')\n",
        "\n",
        "if not os.path.isfile('darknet19_448.conv.23'):\n",
        "    print('Downloading darknet model')\n",
        "    exec_cmd('wget '+model_url)"
      ],
      "execution_count": 0,
      "outputs": []
    },
    {
      "cell_type": "code",
      "metadata": {
        "id": "0NR418d-bQQk",
        "colab_type": "code",
        "colab": {}
      },
      "source": [
        "with open(data_dir+'/'+class_names_file) as f:\n",
        "            class_names = list(\n",
        "                map(lambda s: s.replace('\\n', '').strip(), f.readlines()))\n",
        "            class_names = list(filter(None,class_names))\n",
        "\n",
        "data_file, names_file, cfg_file = gen(\n",
        "    class_names, model_name=model_name, batch_size=batch_size, subdivisions=subdivisions, filename=filename)\n",
        "flag = True\n",
        "print(data_file, names_file, cfg_file)"
      ],
      "execution_count": 0,
      "outputs": []
    },
    {
      "cell_type": "markdown",
      "metadata": {
        "id": "27d4pFn6p2fc",
        "colab_type": "text"
      },
      "source": [
        "###  Train the model"
      ]
    },
    {
      "cell_type": "markdown",
      "metadata": {
        "id": "iU5m1E8Vp8l4",
        "colab_type": "text"
      },
      "source": [
        "#### sub process"
      ]
    },
    {
      "cell_type": "code",
      "metadata": {
        "id": "o9BansSwpwsa",
        "colab_type": "code",
        "colab": {}
      },
      "source": [
        "print('Traning the model')\n",
        "cmd = './darknet detector train '+data_file +' '+cfg_file+' darknet19_448.conv.23'\n",
        "p = subprocess.Popen(cmd, stdout=subprocess.PIPE, bufsize=1,shell = True)\n",
        "for line in iter(p.stdout.readline,''):\n",
        "    print(line)\n",
        "p.stdout.close()\n",
        "p.wait()"
      ],
      "execution_count": 0,
      "outputs": []
    },
    {
      "cell_type": "markdown",
      "metadata": {
        "id": "hpGScBFJqBxj",
        "colab_type": "text"
      },
      "source": [
        "#### Direct commandline"
      ]
    },
    {
      "cell_type": "code",
      "metadata": {
        "id": "zWlVX22KgkGS",
        "colab_type": "code",
        "colab": {}
      },
      "source": [
        "# !./darknet detector train cfg/obj.data cfg/yolo_custom.cfg darknet19_448.conv.23"
      ],
      "execution_count": 0,
      "outputs": []
    },
    {
      "cell_type": "code",
      "metadata": {
        "id": "wDAlQj5EfhAO",
        "colab_type": "code",
        "colab": {}
      },
      "source": [
        ""
      ],
      "execution_count": 0,
      "outputs": []
    }
  ]
}