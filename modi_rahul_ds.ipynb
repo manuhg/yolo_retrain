{
  "nbformat": 4,
  "nbformat_minor": 0,
  "metadata": {
    "colab": {
      "name": "modi_rahul_ds.ipynb",
      "version": "0.3.2",
      "provenance": [],
      "collapsed_sections": []
    },
    "kernelspec": {
      "name": "python3",
      "display_name": "Python 3"
    }
  },
  "cells": [
    {
      "cell_type": "code",
      "metadata": {
        "id": "xuMKMawzA_Su",
        "colab_type": "code",
        "colab": {}
      },
      "source": [
        "!rm -rf *"
      ],
      "execution_count": 0,
      "outputs": []
    },
    {
      "cell_type": "code",
      "metadata": {
        "id": "6eGuvfZUAmln",
        "colab_type": "code",
        "colab": {}
      },
      "source": [
        "import cv2\n",
        "import os\n",
        "import glob\n",
        "import shutil\n",
        "import numpy as np\n",
        "\n",
        "def exec_cmd(cmdstr):\n",
        "  print(os.popen(cmdstr).read())\n",
        "  \n",
        "def download(url,fname=''):\n",
        "  cmdstr = 'wget '+url+(' -O '+fname if fname else '')\n",
        "  exec_cmd(cmdstr)\n",
        "\n",
        "def convert(size, box):#box(xmin,xmax,ymin,ymax)\n",
        "    dw = 1./size[0]\n",
        "    dh = 1./size[1]\n",
        "    x = (box[0] + box[1])/2.0\n",
        "    y = (box[2] + box[3])/2.0\n",
        "    w = box[1] - box[0]\n",
        "    h = box[3] - box[2]\n",
        "    x = x*dw\n",
        "    w = w*dw\n",
        "    y = y*dh\n",
        "    h = h*dh\n",
        "    return (x,y,w,h)\n",
        "\n",
        "def get_face_coords(class_name='',dir_name='.'):\n",
        "  download('https://raw.githubusercontent.com/opencv/opencv/master/data/haarcascades/haarcascade_frontalface_alt.xml','haarcascade_frontalface_default.xml')\n",
        "  facedet = cv2.CascadeClassifier('haarcascade_frontalface_default.xml')\n",
        "\n",
        "  img_names = glob.glob(dir_name+'/*.jpg')\n",
        "  imgs = list(map(lambda imgf:cv2.imread(imgf,cv2.IMREAD_GRAYSCALE),img_names))\n",
        "  rects = list(map(lambda img: facedet.detectMultiScale(img, scaleFactor = 1.2, minNeighbors = 5),imgs))\n",
        "  \n",
        "\n",
        "  img_data = dict(zip(img_names,imgs))\n",
        "  rect_data = {}\n",
        "  bbox_data = {}\n",
        "\n",
        "  for i in range(len(img_names)):\n",
        "    if len(rects[i])>0:\n",
        "      rect_data[img_names[i]] = np.squeeze(np.array(rects[i])).tolist()\n",
        "    else:\n",
        "      print('No dets for ',img_names[i])\n",
        "\n",
        "  for img_name in rect_data.keys():\n",
        "    size = img_data[img_name].shape\n",
        "    xmin,ymin,w,h = rect_data[img_name]\n",
        "  \n",
        "    box = xmin,xmin+w,ymin,ymin+h\n",
        "    bbox_data[img_name] = convert(size,box)\n",
        "  \n",
        "  return class_name,bbox_data\n",
        "\n",
        "def dw_urls(params,datadir='data'):\n",
        "  catname,urls = params\n",
        "  #exec_cmd('mkdir '+catname)\n",
        "  exec_cmd('mkdir '+datadir)\n",
        "  for i in range(len(urls)):\n",
        "    download(urls[i],catname+'_'+str(i).rjust(2,'0')+'.jpg')\n",
        "  exec_cmd('mv -v '+catname+'_* '+datadir+'/')\n",
        "\n",
        "def save_class(item,classes):\n",
        "  cname,data = item\n",
        "  for imgf in data.keys():\n",
        "    txtfname = '.'.join(imgf.split('.')[:-1])+'.txt'\n",
        "    try:\n",
        "      with open(txtfname,'w') as f:\n",
        "        datastr = str(classes[cname])+' '+' '.join(list(map(str,data[imgf])) )\n",
        "        f.write(datastr)\n",
        "    except Exception as e:\n",
        "      print(e)\n",
        "\n",
        "def save_as_zip(dirname,zipname):\n",
        "  try:\n",
        "    shutil.make_archive(zipname, 'zip', dirname)\n",
        "  except Exception as e:\n",
        "    print(e)"
      ],
      "execution_count": 0,
      "outputs": []
    },
    {
      "cell_type": "code",
      "metadata": {
        "id": "IplHdjsEcaxq",
        "colab_type": "code",
        "colab": {}
      },
      "source": [
        "urls={'modi': ['https://bsmedia.business-standard.com/_media/bs/img/article/2019-06/19/full/1560888256-2917.jpg',\n",
        "'https://www.orfonline.org/wp-content/uploads/2019/05/modi-black-mr1.jpg',\n",
        "'https://i0.wp.com/cdn.inc42.com/wp-content/uploads/2018/02/modi.jpg',\n",
        "'https://yt3.ggpht.com/a/AGF-l7-nUWLbveRF3WkZDUeLBuJCt6JsZFJr3SCg3g=s900-mo-c-c0xffffffff-rj-k-no',\n",
        "'http://images.newindianexpress.com/uploads/user/imagelibrary/2018/4/7/w600X300/Prime_Minister_Narendra_Modi_-_PTI.jpg',\n",
        "'https://smedia2.intoday.in/btmt/images/stories/modi_cabinet_660_052919102513.jpg',\n",
        "# 'https://cdn-live.theprint.in/wp-content/uploads/2019/06/Modi-696x391.jpeg',\n",
        "# 'https://akm-img-a-in.tosshub.com/indiatoday/images/story/201904/PM-Modi-PTI_0.jpeg?pULs4CKClBaUt51Maal7ZJh60Ch7x6aK',\n",
        "# 'https://www.informalnewz.com/wp-content/uploads/2019/06/Modi-3-770x433.jpg',\n",
        "# 'https://images1.livehindustan.com/uploadimage/library/2019/06/14/16_9/16_9_1/russian_president_vladimir_putin_meets_with_indian_prime_minister_narendra_modi_on_sco_summit_1560492867.jpg',\n",
        "'https://smedia2.intoday.in/btmt/images/stories/modi_ji_505_012519065412_062219060225.jpg',\n",
        "'https://smedia2.intoday.in/btmt/images/stories/modi_660_022319034325_062319015054.jpg',\n",
        "'https://static-news.moneycontrol.com/static-mcnews/2019/03/Narendra-Modi-2-770x433.jpg',\n",
        "# 'https://img.etimg.com/thumb/height-480,width-640,msid-65839906,imgsize-221051/you-will-find-pm-modi-in-the-life-of-child-narendra.jpg',\n",
        "'https://c.ndtvimg.com/2019-05/2ncrjufk_narendra-modi-pti_625x300_17_May_19.jpg'],\n",
        "\n",
        "'rahul' : ['https://img-s-msn-com.akamaized.net/tenant/amp/entityid/AAD16r4.img',\n",
        "'https://images1.livehindustan.com/uploadimage/library/2019/05/29/16_9/16_9_1/congress_president_rahul_gandhi_pti_file_photo__1559100841.jpg',\n",
        "'https://images.in.com/uploads/2017/12/Rahul_Gandhi-e1514563507379-768x629.jpg',\n",
        "'https://c.ndtvimg.com/2019-03/c9ruqonc_rahul-gandhi-pti_625x300_02_March_19.jpg',\n",
        "'https://s3.ap-south-1.amazonaws.com/hansindia-bucket/h-upload/feeds/2019/05/04/171188-rahul-gandhi.jpg',\n",
        "'https://static-news.moneycontrol.com/static-mcnews/2019/03/Rahul-Gandhi-6-770x433.jpg',\n",
        "'https://smedia2.intoday.in/btmt/images/stories/rahul-gandhi_660_021119124629_022619113050_031919085650.jpg',\n",
        "'https://iyc.in/wp-content/uploads/2018/12/rahul-gandhi-inspiration-iyc.jpg',\n",
        "'https://cdn1.newsstate.com/images/2019/05/26/rahul-gandhi-3-24_5.jpg',\n",
        "'http://ibgnews.com/wp-content/uploads/2018/09/Rahul-Gandhi.png']\n",
        "}"
      ],
      "execution_count": 0,
      "outputs": []
    },
    {
      "cell_type": "code",
      "metadata": {
        "id": "Bc-qYETwLVgP",
        "colab_type": "code",
        "colab": {
          "base_uri": "https://localhost:8080/",
          "height": 799
        },
        "outputId": "bbe463af-523a-45bc-d847-b45b1e20e0c6"
      },
      "source": [
        "datadir = 'data'\n",
        "classes = dict(zip(urls.keys(),list(range(len(urls)))))\n",
        "\n",
        "list(map(lambda u:dw_urls(u,datadir),urls.items()))\n",
        "data = { cn:bbdata for cn,bbdata in list(map( lambda d: get_face_coords(d,'data') ,urls.keys()))}\n",
        "list(map( lambda d:save_class(d,classes) ,data.items()))\n",
        "\n",
        "with open('data/classes.txt','w') as f:\n",
        "  f.write('\\n'.join(classes))\n",
        "\n",
        "save_as_zip('data','data')"
      ],
      "execution_count": 38,
      "outputs": [
        {
          "output_type": "stream",
          "text": [
            "\n",
            "\n",
            "\n",
            "\n",
            "\n",
            "\n",
            "\n",
            "\n",
            "\n",
            "\n",
            "\n",
            "renamed 'modi_00.jpg' -> 'data/modi_00.jpg'\n",
            "renamed 'modi_01.jpg' -> 'data/modi_01.jpg'\n",
            "renamed 'modi_02.jpg' -> 'data/modi_02.jpg'\n",
            "renamed 'modi_03.jpg' -> 'data/modi_03.jpg'\n",
            "renamed 'modi_04.jpg' -> 'data/modi_04.jpg'\n",
            "renamed 'modi_05.jpg' -> 'data/modi_05.jpg'\n",
            "renamed 'modi_06.jpg' -> 'data/modi_06.jpg'\n",
            "renamed 'modi_07.jpg' -> 'data/modi_07.jpg'\n",
            "renamed 'modi_08.jpg' -> 'data/modi_08.jpg'\n",
            "renamed 'modi_09.jpg' -> 'data/modi_09.jpg'\n",
            "\n",
            "\n",
            "\n",
            "\n",
            "\n",
            "\n",
            "\n",
            "\n",
            "\n",
            "\n",
            "\n",
            "\n",
            "renamed 'rahul_00.jpg' -> 'data/rahul_00.jpg'\n",
            "renamed 'rahul_01.jpg' -> 'data/rahul_01.jpg'\n",
            "renamed 'rahul_02.jpg' -> 'data/rahul_02.jpg'\n",
            "renamed 'rahul_03.jpg' -> 'data/rahul_03.jpg'\n",
            "renamed 'rahul_04.jpg' -> 'data/rahul_04.jpg'\n",
            "renamed 'rahul_05.jpg' -> 'data/rahul_05.jpg'\n",
            "renamed 'rahul_06.jpg' -> 'data/rahul_06.jpg'\n",
            "renamed 'rahul_07.jpg' -> 'data/rahul_07.jpg'\n",
            "renamed 'rahul_08.jpg' -> 'data/rahul_08.jpg'\n",
            "renamed 'rahul_09.jpg' -> 'data/rahul_09.jpg'\n",
            "\n",
            "\n",
            "\n"
          ],
          "name": "stdout"
        }
      ]
    },
    {
      "cell_type": "code",
      "metadata": {
        "id": "0Ae_2gjCSerA",
        "colab_type": "code",
        "colab": {
          "base_uri": "https://localhost:8080/",
          "height": 34
        },
        "outputId": "6e2bfe2f-d630-4c2b-f34f-3c32bf11990f"
      },
      "source": [
        "data"
      ],
      "execution_count": 28,
      "outputs": [
        {
          "output_type": "execute_result",
          "data": {
            "text/plain": [
              "{'modi': {}, 'rahul': {}}"
            ]
          },
          "metadata": {
            "tags": []
          },
          "execution_count": 28
        }
      ]
    },
    {
      "cell_type": "code",
      "metadata": {
        "id": "O4PKyCMdWfta",
        "colab_type": "code",
        "colab": {}
      },
      "source": [
        ""
      ],
      "execution_count": 0,
      "outputs": []
    }
  ]
}